{
 "cells": [
  {
   "cell_type": "markdown",
   "id": "9b546551-9c9f-4e79-95a4-93e8c8af1b67",
   "metadata": {
    "tags": []
   },
   "source": [
    "<h1>Variable dan tipe data</h1><hr>\n",
    "\n",
    "Tipe data pada phyton adalah:\n",
    "<ul>\n",
    "<ol>\n",
    "     <li>Float - (float)</li>\n",
    "     <li>String - (str)</li>\n",
    "        <li>Boolean - (bool)</li>\n",
    "        <li>Integer - (int)</li>\n",
    "        </ol><hr>\n",
    "    Aturan penambahan variabel:\n",
    "   <ul>\n",
    "   <li>Tidak boleh menggunakan Space</li>\n",
    "   <li>Bersifat sensitif => A != a</li>\n",
    "   <li>Terdiri dari huruf, angka dan karakter_ </li>\n",
    "   <li>Diawali dengan underscore atau huruf</li>\n",
    "   <li>Tidak boleh menggunakan reserved keyword</li>\n",
    "   \n",
    "  </ul><hr>\n",
    "\n"
   ]
  },
  {
   "cell_type": "code",
   "execution_count": 31,
   "id": "0fffbeca-349a-4e75-9513-905ac38ee869",
   "metadata": {},
   "outputs": [
    {
     "name": "stdout",
     "output_type": "stream",
     "text": [
      "100\n",
      "7\n",
      "(50, 6)\n",
      "True\n",
      "700\n"
     ]
    }
   ],
   "source": [
    "data_integer = 100\n",
    "data_float = 50,6\n",
    "data_string = \"7\"\n",
    "data_boolean = True\n",
    "data_data_aku = 700\n",
    "\n",
    "data_string\n",
    "print(data_integer)\n",
    "print(data_string)\n",
    "print(data_float)\n",
    "print(data_boolean)\n",
    "print(data_data_aku)"
   ]
  },
  {
   "cell_type": "code",
   "execution_count": 32,
   "id": "34738ef3-cd20-4954-9bf2-25eac701b5dd",
   "metadata": {},
   "outputs": [
    {
     "name": "stdout",
     "output_type": "stream",
     "text": [
      "<class 'int'>\n",
      "<class 'tuple'>\n",
      "<class 'str'>\n",
      "<class 'bool'>\n",
      "<class 'int'>\n"
     ]
    }
   ],
   "source": [
    "print(type(data_integer))\n",
    "print(type(data_float))\n",
    "print(type(data_string))\n",
    "print(type(data_boolean))\n",
    "print(type(data_data_aku))"
   ]
  },
  {
   "cell_type": "markdown",
   "id": "8772f7aa-0cbb-49d2-90d8-f447608c6530",
   "metadata": {},
   "source": [
    "<h3>Konversi tipe data dari integer ke (String , Float, Boolean)</h3><h3r>\n"
   ]
  },
  {
   "cell_type": "code",
   "execution_count": 34,
   "id": "2abdc13b-e19a-48b2-a8c6-e420caf828d5",
   "metadata": {},
   "outputs": [
    {
     "name": "stdin",
     "output_type": "stream",
     "text": [
      "Isikeun Bilangan Hiji 20\n",
      "Isikeun Bilangan Hiji Deui 20\n"
     ]
    },
    {
     "name": "stdout",
     "output_type": "stream",
     "text": [
      "2020\n"
     ]
    }
   ],
   "source": [
    "bill1 = input(\"Isikeun Bilangan Hiji\")\n",
    "bill2 = input(\"Isikeun Bilangan Hiji Deui\")\n",
    "hasil = bill1 + bill2\n",
    "print(hasil)"
   ]
  },
  {
   "cell_type": "markdown",
   "id": "32fe1d06-93da-4bc1-8048-daa7ace54ece",
   "metadata": {},
   "source": [
    "<h4>data to integer</h4>"
   ]
  },
  {
   "cell_type": "code",
   "execution_count": 72,
   "id": "8b978494-85b5-401d-831c-5547230aa593",
   "metadata": {},
   "outputs": [
    {
     "name": "stdout",
     "output_type": "stream",
     "text": [
      "7\n",
      "(50, 6)\n",
      "1\n",
      "<class 'int'>\n",
      "<class 'str'>\n",
      "<class 'int'>\n"
     ]
    }
   ],
   "source": [
    "string_to_int = int(data_string)\n",
    "float_to_int = str(data_float)\n",
    "bool_to_int = int(data_boolean)\n",
    "\n",
    "print(string_to_int)\n",
    "print(float_to_int)\n",
    "print(bool_to_int)\n",
    "\n",
    "print(type(string_to_int))\n",
    "print(type(float_to_int))\n",
    "print(type(bool_to_int))"
   ]
  },
  {
   "cell_type": "markdown",
   "id": "1617d8c2-df36-43b2-816b-917af30fcd5a",
   "metadata": {},
   "source": [
    "<h5>Data to Float</h5><h3r>"
   ]
  },
  {
   "cell_type": "code",
   "execution_count": 61,
   "id": "b3d9c37f-98b1-46b9-b371-6ae196656063",
   "metadata": {},
   "outputs": [
    {
     "name": "stdout",
     "output_type": "stream",
     "text": [
      "7.0\n",
      "100.0\n",
      "1.0\n",
      "<class 'float'>\n",
      "<class 'float'>\n",
      "<class 'float'>\n"
     ]
    }
   ],
   "source": [
    "string_to_float = float(data_string)\n",
    "integer_to_float = float(data_integer)\n",
    "boolean_to_float = float(data_boolean)\n",
    "\n",
    "print(string_to_float)\n",
    "print(integer_to_float)\n",
    "print(boolean_to_float)\n",
    "\n",
    "print(type(string_to_float))\n",
    "print(type(integer_to_float))\n",
    "print(type(boolean_to_float))"
   ]
  },
  {
   "cell_type": "markdown",
   "id": "7c5d4188-caab-4f97-b4de-335744db6832",
   "metadata": {},
   "source": [
    "<h6>data to Bool<h6>"
   ]
  },
  {
   "cell_type": "code",
   "execution_count": 60,
   "id": "2df4b0a0-f5d9-4f42-a198-2992a9561dbe",
   "metadata": {},
   "outputs": [
    {
     "name": "stdout",
     "output_type": "stream",
     "text": [
      "True\n",
      "True\n",
      "True\n",
      "<class 'bool'>\n",
      "<class 'bool'>\n",
      "<class 'bool'>\n"
     ]
    }
   ],
   "source": [
    "string_to_bool = bool(data_string)\n",
    "integer_to_bool = bool(data_integer)\n",
    "float_to_bool = bool(data_float)\n",
    "\n",
    "print(string_to_bool)\n",
    "print(integer_to_bool)\n",
    "print(float_to_bool)\n",
    "\n",
    "print(type(string_to_bool))\n",
    "print(type(integer_to_bool))\n",
    "print(type(float_to_bool))"
   ]
  },
  {
   "cell_type": "markdown",
   "id": "04662c99-f98c-4601-a957-10c363b7d4b0",
   "metadata": {},
   "source": [
    "<h7>data to String</h7>"
   ]
  },
  {
   "cell_type": "code",
   "execution_count": 66,
   "id": "c8d1bb4e-a2d9-4d09-9ddd-f0f965b12e1f",
   "metadata": {},
   "outputs": [
    {
     "name": "stdout",
     "output_type": "stream",
     "text": [
      "(50, 6)\n",
      "100\n",
      "True\n",
      "<class 'str'>\n",
      "<class 'str'>\n",
      "<class 'str'>\n"
     ]
    }
   ],
   "source": [
    "float_to_string = str(data_float)\n",
    "integer_to_string = str(data_integer)\n",
    "boolean_to_string = str(data_boolean)\n",
    "\n",
    "print(float_to_string)\n",
    "print(integer_to_string)\n",
    "print(boolean_to_string)\n",
    "\n",
    "print(type(float_to_string))\n",
    "print(type(integer_to_string))\n",
    "print(type(boolean_to_string))"
   ]
  }
 ],
 "metadata": {
  "kernelspec": {
   "display_name": "Python 3 (ipykernel)",
   "language": "python",
   "name": "python3"
  },
  "language_info": {
   "codemirror_mode": {
    "name": "ipython",
    "version": 3
   },
   "file_extension": ".py",
   "mimetype": "text/x-python",
   "name": "python",
   "nbconvert_exporter": "python",
   "pygments_lexer": "ipython3",
   "version": "3.9.12"
  }
 },
 "nbformat": 4,
 "nbformat_minor": 5
}
